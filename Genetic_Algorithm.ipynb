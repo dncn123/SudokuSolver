{
 "cells": [
  {
   "cell_type": "code",
   "execution_count": 1,
   "metadata": {
    "collapsed": true
   },
   "outputs": [],
   "source": [
    "from collections import Counter\n",
    "import numpy as np\n",
    "import matplotlib.pyplot as plt\n",
    "%matplotlib inline"
   ]
  },
  {
   "cell_type": "code",
   "execution_count": 2,
   "metadata": {
    "collapsed": false
   },
   "outputs": [],
   "source": [
    "## Loading code from kaggle where sudoku data came from\n",
    "quizzes = np.zeros((1000000, 81), np.int32)\n",
    "solutions = np.zeros((1000000, 81), np.int32)\n",
    "for i, line in enumerate(open('sudoku.csv', 'r').read().splitlines()[1:]):\n",
    "    quiz, solution = line.split(\",\")\n",
    "    for j, q_s in enumerate(zip(quiz, solution)):\n",
    "        q, s = q_s\n",
    "        quizzes[i, j] = q\n",
    "        solutions[i, j] = s\n",
    "quizzes = quizzes.reshape((-1, 9, 9))\n",
    "solutions = solutions.reshape((-1, 9, 9))\n",
    "#for quiz, solution in zip(quizzes[:10], solutions[:10]):\n",
    "#    print(quiz)\n",
    "#    print(solution)"
   ]
  },
  {
   "cell_type": "code",
   "execution_count": 10,
   "metadata": {
    "collapsed": false
   },
   "outputs": [],
   "source": [
    "class GenAl(object):\n",
    "    \n",
    "    def __init__(self, quiz, pop_size):\n",
    "        self.sqsubset = self.get_sqsubset()\n",
    "        self.base = 150 # Use this number of reverse the \"error\" measure to a \"fitness\" measure\n",
    "        self.quizoriginal = quiz \n",
    "        self.pop_size = pop_size\n",
    "        self.population = np.zeros((self.pop_size,9,9)) \n",
    "        self.fitness = []\n",
    "        self.fitness_max = []\n",
    "        self.fitness_avg = []\n",
    "        self.solution = 0\n",
    "        \n",
    "    ## This is used to subset the array into the 9 smaller squares it is made up of\n",
    "    def get_sqsubset(self):\n",
    "        sqsubset = np.zeros((9,9,9))\n",
    "        sqsubset[0,:3,:3] = 1\n",
    "        sqsubset[1,:3,3:6] = 1\n",
    "        sqsubset[2,:3,6:9] = 1\n",
    "        sqsubset[3,3:6,:3] = 1\n",
    "        sqsubset[4,3:6,3:6] = 1\n",
    "        sqsubset[5,3:6,6:9] = 1\n",
    "        sqsubset[6,6:9,:3] = 1\n",
    "        sqsubset[7,6:9,3:6] = 1\n",
    "        sqsubset[8,6:9,6:9] = 1\n",
    "        return sqsubset==1\n",
    "    \n",
    "    ## For the quiz randomly generate filled quizzes and measure their fitness \n",
    "    def init_pop(self):\n",
    "        self.fitness = []\n",
    "        for i in range(self.pop_size):\n",
    "            self.population[i] = self.quizoriginal.copy()\n",
    "            for sub in self.sqsubset:\n",
    "                s = set(self.population[i][sub].flatten())\n",
    "                inputs = []\n",
    "                for j in range(1,10):\n",
    "                    if j not in s:\n",
    "                        inputs.append(j)\n",
    "                inputs = np.array(inputs)\n",
    "                np.random.shuffle(inputs)\n",
    "                sset = sub&(self.quizoriginal==0)\n",
    "                self.population[i][sset] = inputs\n",
    "            self.fitness.append(self.get_fitness(self.population[i]))\n",
    "    \n",
    "    ## Count the number of repeats in rows and columns of quiz to get idea of quiz fitness\n",
    "    def get_fitness(self, quiz):\n",
    "        error = 0\n",
    "        #rows \n",
    "        for row in quiz:\n",
    "            c = Counter(row)\n",
    "            c = np.array(list(c.values()))\n",
    "            error += sum(c[c>1])\n",
    "        #columns\n",
    "        for col in quiz.T:\n",
    "            c = Counter(col)\n",
    "            c = np.array(list(c.values()))\n",
    "            error += sum(c[c>1])\n",
    "        return self.base - error\n",
    "    \n",
    "    ## Randomly make mutations to a quiz this function will either\n",
    "        # Do nothing\n",
    "        # Shuffle one 3x3 grid\n",
    "        # Swap two numbers in a 3x3 grid\n",
    "    def mutate(self, quizbaby):\n",
    "        choice = np.random.randint(0,3,1)[0]\n",
    "        if choice == 1:\n",
    "            sset = self.sqsubset[np.random.randint(0,9),:,:]&(self.quizoriginal==0)\n",
    "            shuf = quizbaby[sset]\n",
    "            np.random.shuffle(shuf)\n",
    "            quizbaby[sset] = shuf\n",
    "        elif choice == 2:\n",
    "            sset = self.sqsubset[np.random.randint(0,9),:,:]&(self.quizoriginal==0)\n",
    "            mutatetemp = quizbaby[sset].copy()\n",
    "            swaps = np.random.randint(0,sset.sum(),2)\n",
    "            mutatetemp[swaps[0]], mutatetemp[swaps[1]] = mutatetemp[swaps[1]], mutatetemp[swaps[0]]\n",
    "            quizbaby[sset] = mutatetemp\n",
    "        return quizbaby.astype(int)\n",
    "    \n",
    "    ## swap 3x3 grids of two quizes to form a quiz made up of both \n",
    "    def sex(self, quiz1, quiz2):\n",
    "        order = np.array(range(9))\n",
    "        np.random.shuffle(order)\n",
    "        num = round(np.random.normal(4.5))\n",
    "        baby = np.zeros((9,9))\n",
    "        baby[self.sqsubset[order[:num],:,:].sum(axis=0)==1] = quiz1[self.sqsubset[order[:num],:,:].sum(axis=0)==1]\n",
    "        baby[self.sqsubset[order[num:],:,:].sum(axis=0)==1] = quiz2[self.sqsubset[order[num:],:,:].sum(axis=0)==1]\n",
    "        return baby.astype(int)\n",
    "        \n",
    "    ## Takes the current population of quizzes and breeds them \n",
    "    ## Fitter quizzes are more likely to be selected\n",
    "    def breed_pop(self):\n",
    "        newpopulation = np.zeros((self.pop_size, 9, 9))\n",
    "        insertindex = 0\n",
    "        newfitness = []\n",
    "        to_breed = 0\n",
    "        babies = 0\n",
    "        while babies < self.pop_size:\n",
    "            to_try = np.random.randint(0,self.pop_size)\n",
    "            if self.fitness[to_try] > np.random.randint(min(self.fitness),max(self.fitness)):\n",
    "                if to_breed == 0:\n",
    "                    thing_to_breed = self.population[to_try]\n",
    "                    to_breed = 1\n",
    "                else:\n",
    "                    newpopulation[insertindex,:,:] = self.mutate(self.sex(thing_to_breed, self.population[to_try]))\n",
    "                    newfitness.append(self.get_fitness(newpopulation[insertindex,:,:]))\n",
    "                    to_breed = 0\n",
    "                    insertindex += 1\n",
    "                    babies += 1\n",
    "        self.population, self.fitness = newpopulation.astype(int), newfitness\n",
    "    \n",
    "    ## Run the breed pop in a loop until the solution is found or reaches max\n",
    "    def run(self, times = 100):\n",
    "        self.init_pop()\n",
    "        self.fitness_max.append(min(self.fitness)) \n",
    "        self.fitness_avg.append(np.mean(self.fitness))\n",
    "        for i in range(times):\n",
    "            self.fitness_max.append(max(self.fitness)) \n",
    "            self.fitness_avg.append(np.mean(self.fitness))\n",
    "            self.breed_pop()\n",
    "            if max(self.fitness) == self.base:\n",
    "                print(\"We have our perfect baby!\")\n",
    "                self.solution = self.population[np.array(self.fitness) == max(self.fitness)]\n",
    "                break"
   ]
  },
  {
   "cell_type": "code",
   "execution_count": 11,
   "metadata": {
    "collapsed": false
   },
   "outputs": [
    {
     "name": "stdout",
     "output_type": "stream",
     "text": [
      "We have our perfect baby!\n"
     ]
    }
   ],
   "source": [
    "# Take 2nd quiz and a population size of 100 and setting 1,000 and the maximum number of generations\n",
    "GA = GenAl(quizzes[1].copy(), 100)\n",
    "GA.run(10000)"
   ]
  },
  {
   "cell_type": "code",
   "execution_count": 12,
   "metadata": {
    "collapsed": false
   },
   "outputs": [
    {
     "data": {
      "text/plain": [
       "[<matplotlib.lines.Line2D at 0x54873b0>]"
      ]
     },
     "execution_count": 12,
     "metadata": {},
     "output_type": "execute_result"
    },
    {
     "data": {
      "image/png": "[encoded data removed]",
      "text/plain": [
       "<matplotlib.figure.Figure at 0x2d5edd0>"
      ]
     },
     "metadata": {},
     "output_type": "display_data"
    }
   ],
   "source": [
    "# The average fitness of each successive generation\n",
    "plt.plot(GA.fitness_avg)"
   ]
  },
  {
   "cell_type": "code",
   "execution_count": 13,
   "metadata": {
    "collapsed": false
   },
   "outputs": [
    {
     "data": {
      "text/plain": [
       "[<matplotlib.lines.Line2D at 0x5547af0>]"
      ]
     },
     "execution_count": 13,
     "metadata": {},
     "output_type": "execute_result"
    },
    {
     "data": {
      "image/png": "[encoded data removed]",
      "text/plain": [
       "<matplotlib.figure.Figure at 0x544b2d0>"
      ]
     },
     "metadata": {},
     "output_type": "display_data"
    }
   ],
   "source": [
    "# The maximum fitness of each successive generation\n",
    "plt.plot(GA.fitness_max)"
   ]
  },
  {
   "cell_type": "code",
   "execution_count": 14,
   "metadata": {
    "collapsed": false
   },
   "outputs": [
    {
     "data": {
      "text/plain": [
       "array([[[ True,  True,  True,  True,  True,  True,  True,  True,  True],\n",
       "        [ True,  True,  True,  True,  True,  True,  True,  True,  True],\n",
       "        [ True,  True,  True,  True,  True,  True,  True,  True,  True],\n",
       "        [ True,  True,  True,  True,  True,  True,  True,  True,  True],\n",
       "        [ True,  True,  True,  True,  True,  True,  True,  True,  True],\n",
       "        [ True,  True,  True,  True,  True,  True,  True,  True,  True],\n",
       "        [ True,  True,  True,  True,  True,  True,  True,  True,  True],\n",
       "        [ True,  True,  True,  True,  True,  True,  True,  True,  True],\n",
       "        [ True,  True,  True,  True,  True,  True,  True,  True,  True]]], dtype=bool)"
      ]
     },
     "execution_count": 14,
     "metadata": {},
     "output_type": "execute_result"
    }
   ],
   "source": [
    "# Checking the solution is in fact the same solution\n",
    "GA.solution==solutions[1]"
   ]
  },
  {
   "cell_type": "code",
   "execution_count": null,
   "metadata": {
    "collapsed": true
   },
   "outputs": [],
   "source": [
    "#need to do some sort of grid search \n",
    "\n",
    "## Things to do grid search over \n",
    "# population size \n",
    "# amount of mutations \n",
    "# how elitist selection is"
   ]
  }
 ],
 "metadata": {
  "anaconda-cloud": {},
  "kernelspec": {
   "display_name": "Python [Root]",
   "language": "python",
   "name": "Python [Root]"
  },
  "language_info": {
   "codemirror_mode": {
    "name": "ipython",
    "version": 3
   },
   "file_extension": ".py",
   "mimetype": "text/x-python",
   "name": "python",
   "nbconvert_exporter": "python",
   "pygments_lexer": "ipython3",
   "version": "3.5.2"
  }
 },
 "nbformat": 4,
 "nbformat_minor": 0
}
